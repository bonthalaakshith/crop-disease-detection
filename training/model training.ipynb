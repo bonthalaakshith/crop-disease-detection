{
 "cells": [
  {
   "cell_type": "code",
   "execution_count": 1,
   "id": "020dbf1d",
   "metadata": {},
   "outputs": [
    {
     "name": "stdout",
     "output_type": "stream",
     "text": [
      "WARNING:tensorflow:From G:\\anaconda\\Lib\\site-packages\\keras\\src\\losses.py:2976: The name tf.losses.sparse_softmax_cross_entropy is deprecated. Please use tf.compat.v1.losses.sparse_softmax_cross_entropy instead.\n",
      "\n"
     ]
    }
   ],
   "source": [
    "import tensorflow as tf\n",
    "import tensorflow_hub as hub\n",
    "from tensorflow.keras import layers, models, optimizers\n",
    "from tensorflow.keras.preprocessing.image import ImageDataGenerator"
   ]
  },
  {
   "cell_type": "code",
   "execution_count": 2,
   "id": "44192dad",
   "metadata": {},
   "outputs": [],
   "source": [
    "MODULE_HANDLE = 'https://tfhub.dev/google/imagenet/efficientnet_v2_imagenet1k_b0/feature_vector/2'\n",
    "IMAGE_SIZE = (224, 224)\n",
    "NUM_CLASSES = 4 "
   ]
  },
  {
   "cell_type": "code",
   "execution_count": 3,
   "id": "0e53fbd6",
   "metadata": {},
   "outputs": [
    {
     "name": "stdout",
     "output_type": "stream",
     "text": [
      "WARNING:tensorflow:From G:\\anaconda\\Lib\\site-packages\\tensorflow_hub\\resolver.py:120: The name tf.gfile.MakeDirs is deprecated. Please use tf.io.gfile.makedirs instead.\n",
      "\n"
     ]
    },
    {
     "name": "stderr",
     "output_type": "stream",
     "text": [
      "WARNING:tensorflow:From G:\\anaconda\\Lib\\site-packages\\tensorflow_hub\\resolver.py:120: The name tf.gfile.MakeDirs is deprecated. Please use tf.io.gfile.makedirs instead.\n",
      "\n"
     ]
    },
    {
     "name": "stdout",
     "output_type": "stream",
     "text": [
      "WARNING:tensorflow:From G:\\anaconda\\Lib\\site-packages\\tensorflow_hub\\module_v2.py:126: The name tf.saved_model.load_v2 is deprecated. Please use tf.compat.v2.saved_model.load instead.\n",
      "\n"
     ]
    },
    {
     "name": "stderr",
     "output_type": "stream",
     "text": [
      "WARNING:tensorflow:From G:\\anaconda\\Lib\\site-packages\\tensorflow_hub\\module_v2.py:126: The name tf.saved_model.load_v2 is deprecated. Please use tf.compat.v2.saved_model.load instead.\n",
      "\n"
     ]
    },
    {
     "name": "stdout",
     "output_type": "stream",
     "text": [
      "WARNING:tensorflow:From G:\\anaconda\\Lib\\site-packages\\keras\\src\\backend.py:873: The name tf.get_default_graph is deprecated. Please use tf.compat.v1.get_default_graph instead.\n",
      "\n"
     ]
    },
    {
     "name": "stderr",
     "output_type": "stream",
     "text": [
      "WARNING:tensorflow:From G:\\anaconda\\Lib\\site-packages\\keras\\src\\backend.py:873: The name tf.get_default_graph is deprecated. Please use tf.compat.v1.get_default_graph instead.\n",
      "\n"
     ]
    }
   ],
   "source": [
    "def create_model():\n",
    "    feature_extractor = hub.KerasLayer(MODULE_HANDLE,\n",
    "                                       input_shape=IMAGE_SIZE + (3,),  # Input shape of images (height, width, channels)\n",
    "                                       trainable=False)  # Freeze the weights of the pre-trained model\n",
    "    \n",
    "    model = models.Sequential([\n",
    "        feature_extractor,\n",
    "        layers.Dense(NUM_CLASSES, activation='softmax')  # Output layer with softmax activation for classification\n",
    "    ])\n",
    "    \n",
    "    return model\n",
    "\n",
    "# Create an instance of the model\n",
    "model = create_model()"
   ]
  },
  {
   "cell_type": "code",
   "execution_count": 4,
   "id": "83db4be0",
   "metadata": {},
   "outputs": [
    {
     "name": "stdout",
     "output_type": "stream",
     "text": [
      "WARNING:tensorflow:From G:\\anaconda\\Lib\\site-packages\\keras\\src\\optimizers\\__init__.py:309: The name tf.train.Optimizer is deprecated. Please use tf.compat.v1.train.Optimizer instead.\n",
      "\n"
     ]
    },
    {
     "name": "stderr",
     "output_type": "stream",
     "text": [
      "WARNING:tensorflow:From G:\\anaconda\\Lib\\site-packages\\keras\\src\\optimizers\\__init__.py:309: The name tf.train.Optimizer is deprecated. Please use tf.compat.v1.train.Optimizer instead.\n",
      "\n"
     ]
    }
   ],
   "source": [
    "train_dir = 'C:/Users/akshi/Desktop/project2k24/plant disease prediction/training/dataset/train'\n",
    "test_dir = 'C:/Users/akshi/Desktop/project2k24/plant disease prediction/training/dataset/test'\n",
    "# Compile the model\n",
    "model.compile(optimizer='adam',\n",
    "              loss='categorical_crossentropy',\n",
    "              metrics=['accuracy'])"
   ]
  },
  {
   "cell_type": "code",
   "execution_count": 5,
   "id": "8fa164c2",
   "metadata": {},
   "outputs": [],
   "source": [
    "train_datagen = ImageDataGenerator(\n",
    "    rescale=1./255,\n",
    "    rotation_range=20,\n",
    "    width_shift_range=0.2,\n",
    "    height_shift_range=0.2,\n",
    "    shear_range=0.2,\n",
    "    zoom_range=0.2,\n",
    "    horizontal_flip=True,\n",
    "    fill_mode='nearest')\n"
   ]
  },
  {
   "cell_type": "code",
   "execution_count": 6,
   "id": "1b7868b8",
   "metadata": {},
   "outputs": [],
   "source": [
    "test_datagen = ImageDataGenerator(rescale=1./255)"
   ]
  },
  {
   "cell_type": "code",
   "execution_count": 7,
   "id": "ca46f4dd",
   "metadata": {},
   "outputs": [
    {
     "name": "stdout",
     "output_type": "stream",
     "text": [
      "Found 1820 images belonging to 4 classes.\n"
     ]
    }
   ],
   "source": [
    "train_generator = train_datagen.flow_from_directory(\n",
    "    train_dir,\n",
    "    target_size=IMAGE_SIZE,\n",
    "    batch_size=32,\n",
    "    class_mode='categorical')"
   ]
  },
  {
   "cell_type": "code",
   "execution_count": 8,
   "id": "182c3683",
   "metadata": {},
   "outputs": [
    {
     "name": "stdout",
     "output_type": "stream",
     "text": [
      "Found 343 images belonging to 4 classes.\n"
     ]
    }
   ],
   "source": [
    "\n",
    "validation_generator = test_datagen.flow_from_directory(\n",
    "    test_dir,\n",
    "    target_size=IMAGE_SIZE,\n",
    "    batch_size=32,\n",
    "    class_mode='categorical')"
   ]
  },
  {
   "cell_type": "code",
   "execution_count": 9,
   "id": "da07bb2f",
   "metadata": {},
   "outputs": [
    {
     "name": "stdout",
     "output_type": "stream",
     "text": [
      "Epoch 1/50\n",
      "WARNING:tensorflow:From G:\\anaconda\\Lib\\site-packages\\keras\\src\\utils\\tf_utils.py:492: The name tf.ragged.RaggedTensorValue is deprecated. Please use tf.compat.v1.ragged.RaggedTensorValue instead.\n",
      "\n"
     ]
    },
    {
     "name": "stderr",
     "output_type": "stream",
     "text": [
      "WARNING:tensorflow:From G:\\anaconda\\Lib\\site-packages\\keras\\src\\utils\\tf_utils.py:492: The name tf.ragged.RaggedTensorValue is deprecated. Please use tf.compat.v1.ragged.RaggedTensorValue instead.\n",
      "\n"
     ]
    },
    {
     "name": "stdout",
     "output_type": "stream",
     "text": [
      "WARNING:tensorflow:From G:\\anaconda\\Lib\\site-packages\\keras\\src\\engine\\base_layer_utils.py:384: The name tf.executing_eagerly_outside_functions is deprecated. Please use tf.compat.v1.executing_eagerly_outside_functions instead.\n",
      "\n"
     ]
    },
    {
     "name": "stderr",
     "output_type": "stream",
     "text": [
      "WARNING:tensorflow:From G:\\anaconda\\Lib\\site-packages\\keras\\src\\engine\\base_layer_utils.py:384: The name tf.executing_eagerly_outside_functions is deprecated. Please use tf.compat.v1.executing_eagerly_outside_functions instead.\n",
      "\n"
     ]
    },
    {
     "name": "stdout",
     "output_type": "stream",
     "text": [
      "56/56 [==============================] - 323s 5s/step - loss: 1.0446 - accuracy: 0.5714 - val_loss: 1.0830 - val_accuracy: 0.6327\n",
      "Epoch 2/50\n",
      "56/56 [==============================] - 238s 4s/step - loss: 0.8464 - accuracy: 0.7049 - val_loss: 1.0568 - val_accuracy: 0.6181\n",
      "Epoch 3/50\n",
      "56/56 [==============================] - 230s 4s/step - loss: 0.7581 - accuracy: 0.7407 - val_loss: 0.9590 - val_accuracy: 0.6356\n",
      "Epoch 4/50\n",
      "56/56 [==============================] - 271s 5s/step - loss: 0.6972 - accuracy: 0.7670 - val_loss: 0.9535 - val_accuracy: 0.6414\n",
      "Epoch 5/50\n",
      "56/56 [==============================] - 212s 4s/step - loss: 0.6660 - accuracy: 0.7725 - val_loss: 0.9695 - val_accuracy: 0.6239\n",
      "Epoch 6/50\n",
      "56/56 [==============================] - 306s 5s/step - loss: 0.6412 - accuracy: 0.7725 - val_loss: 0.9644 - val_accuracy: 0.6647\n",
      "Epoch 7/50\n",
      "56/56 [==============================] - 130s 2s/step - loss: 0.6125 - accuracy: 0.7874 - val_loss: 0.8320 - val_accuracy: 0.6880\n",
      "Epoch 8/50\n",
      "56/56 [==============================] - 134s 2s/step - loss: 0.5989 - accuracy: 0.7896 - val_loss: 0.7698 - val_accuracy: 0.7318\n",
      "Epoch 9/50\n",
      "56/56 [==============================] - 146s 3s/step - loss: 0.5774 - accuracy: 0.8060 - val_loss: 0.7908 - val_accuracy: 0.7114\n",
      "Epoch 10/50\n",
      "56/56 [==============================] - 137s 2s/step - loss: 0.5558 - accuracy: 0.8060 - val_loss: 0.7181 - val_accuracy: 0.7114\n",
      "Epoch 11/50\n",
      "56/56 [==============================] - 142s 2s/step - loss: 0.5497 - accuracy: 0.8071 - val_loss: 0.7522 - val_accuracy: 0.7026\n",
      "Epoch 12/50\n",
      "56/56 [==============================] - 139s 2s/step - loss: 0.5471 - accuracy: 0.8027 - val_loss: 0.7515 - val_accuracy: 0.7026\n",
      "Epoch 13/50\n",
      "56/56 [==============================] - 140s 2s/step - loss: 0.5187 - accuracy: 0.8220 - val_loss: 0.7259 - val_accuracy: 0.7172\n",
      "Epoch 14/50\n",
      "56/56 [==============================] - 123s 2s/step - loss: 0.5227 - accuracy: 0.8214 - val_loss: 0.6868 - val_accuracy: 0.7259\n",
      "Epoch 15/50\n",
      "56/56 [==============================] - 122s 2s/step - loss: 0.5212 - accuracy: 0.8104 - val_loss: 0.6364 - val_accuracy: 0.7347\n",
      "Epoch 16/50\n",
      "56/56 [==============================] - 129s 2s/step - loss: 0.5026 - accuracy: 0.8203 - val_loss: 0.6532 - val_accuracy: 0.7289\n",
      "Epoch 17/50\n",
      "56/56 [==============================] - 122s 2s/step - loss: 0.5093 - accuracy: 0.8181 - val_loss: 0.7251 - val_accuracy: 0.6939\n",
      "Epoch 18/50\n",
      "56/56 [==============================] - 122s 2s/step - loss: 0.4867 - accuracy: 0.8286 - val_loss: 0.6779 - val_accuracy: 0.7493\n",
      "Epoch 19/50\n",
      "56/56 [==============================] - 121s 2s/step - loss: 0.4857 - accuracy: 0.8275 - val_loss: 0.6526 - val_accuracy: 0.7289\n",
      "Epoch 20/50\n",
      "56/56 [==============================] - 122s 2s/step - loss: 0.4761 - accuracy: 0.8368 - val_loss: 0.6334 - val_accuracy: 0.7347\n",
      "Epoch 21/50\n",
      "56/56 [==============================] - 121s 2s/step - loss: 0.4630 - accuracy: 0.8286 - val_loss: 0.6250 - val_accuracy: 0.7289\n",
      "Epoch 22/50\n",
      "56/56 [==============================] - 120s 2s/step - loss: 0.4832 - accuracy: 0.8242 - val_loss: 0.6280 - val_accuracy: 0.7522\n",
      "Epoch 23/50\n",
      "56/56 [==============================] - 119s 2s/step - loss: 0.4579 - accuracy: 0.8390 - val_loss: 0.6718 - val_accuracy: 0.7085\n",
      "Epoch 24/50\n",
      "56/56 [==============================] - 122s 2s/step - loss: 0.4351 - accuracy: 0.8522 - val_loss: 0.6366 - val_accuracy: 0.7230\n",
      "Epoch 25/50\n",
      "56/56 [==============================] - 119s 2s/step - loss: 0.4417 - accuracy: 0.8505 - val_loss: 0.6117 - val_accuracy: 0.7493\n",
      "Epoch 26/50\n",
      "56/56 [==============================] - 119s 2s/step - loss: 0.4382 - accuracy: 0.8412 - val_loss: 0.6310 - val_accuracy: 0.7493\n",
      "Epoch 27/50\n",
      "56/56 [==============================] - 121s 2s/step - loss: 0.4452 - accuracy: 0.8456 - val_loss: 0.5634 - val_accuracy: 0.7843\n",
      "Epoch 28/50\n",
      "56/56 [==============================] - 121s 2s/step - loss: 0.4389 - accuracy: 0.8456 - val_loss: 0.6099 - val_accuracy: 0.7551\n",
      "Epoch 29/50\n",
      "56/56 [==============================] - 118s 2s/step - loss: 0.4268 - accuracy: 0.8462 - val_loss: 0.6320 - val_accuracy: 0.7522\n",
      "Epoch 30/50\n",
      "56/56 [==============================] - 118s 2s/step - loss: 0.4283 - accuracy: 0.8560 - val_loss: 0.5848 - val_accuracy: 0.7609\n",
      "Epoch 31/50\n",
      "56/56 [==============================] - 122s 2s/step - loss: 0.4141 - accuracy: 0.8566 - val_loss: 0.5902 - val_accuracy: 0.7522\n",
      "Epoch 32/50\n",
      "56/56 [==============================] - 131s 2s/step - loss: 0.4185 - accuracy: 0.8555 - val_loss: 0.5820 - val_accuracy: 0.7668\n",
      "Epoch 33/50\n",
      "56/56 [==============================] - 122s 2s/step - loss: 0.4041 - accuracy: 0.8670 - val_loss: 0.5721 - val_accuracy: 0.7755\n",
      "Epoch 34/50\n",
      "56/56 [==============================] - 148s 3s/step - loss: 0.4165 - accuracy: 0.8511 - val_loss: 0.5655 - val_accuracy: 0.7697\n",
      "Epoch 35/50\n",
      "56/56 [==============================] - 141s 2s/step - loss: 0.4081 - accuracy: 0.8588 - val_loss: 0.5332 - val_accuracy: 0.7930\n",
      "Epoch 36/50\n",
      "56/56 [==============================] - 128s 2s/step - loss: 0.4023 - accuracy: 0.8621 - val_loss: 0.5716 - val_accuracy: 0.7638\n",
      "Epoch 37/50\n",
      "56/56 [==============================] - 122s 2s/step - loss: 0.3947 - accuracy: 0.8632 - val_loss: 0.5627 - val_accuracy: 0.7813\n",
      "Epoch 38/50\n",
      "56/56 [==============================] - 163s 3s/step - loss: 0.4028 - accuracy: 0.8577 - val_loss: 0.5510 - val_accuracy: 0.7784\n",
      "Epoch 39/50\n",
      "56/56 [==============================] - 136s 2s/step - loss: 0.3979 - accuracy: 0.8626 - val_loss: 0.6040 - val_accuracy: 0.7551\n",
      "Epoch 40/50\n",
      "56/56 [==============================] - 148s 3s/step - loss: 0.3813 - accuracy: 0.8764 - val_loss: 0.5304 - val_accuracy: 0.7872\n",
      "Epoch 41/50\n",
      "56/56 [==============================] - 118s 2s/step - loss: 0.3815 - accuracy: 0.8687 - val_loss: 0.5438 - val_accuracy: 0.7813\n",
      "Epoch 42/50\n",
      "56/56 [==============================] - 119s 2s/step - loss: 0.3920 - accuracy: 0.8621 - val_loss: 0.5833 - val_accuracy: 0.7609\n",
      "Epoch 43/50\n",
      "56/56 [==============================] - 116s 2s/step - loss: 0.3861 - accuracy: 0.8593 - val_loss: 0.5998 - val_accuracy: 0.7609\n",
      "Epoch 44/50\n",
      "56/56 [==============================] - 115s 2s/step - loss: 0.3841 - accuracy: 0.8709 - val_loss: 0.5311 - val_accuracy: 0.7784\n",
      "Epoch 45/50\n",
      "56/56 [==============================] - 114s 2s/step - loss: 0.3831 - accuracy: 0.8714 - val_loss: 0.5147 - val_accuracy: 0.7959\n",
      "Epoch 46/50\n",
      "56/56 [==============================] - 115s 2s/step - loss: 0.3749 - accuracy: 0.8687 - val_loss: 0.5628 - val_accuracy: 0.7726\n",
      "Epoch 47/50\n",
      "56/56 [==============================] - 116s 2s/step - loss: 0.3689 - accuracy: 0.8692 - val_loss: 0.5345 - val_accuracy: 0.7872\n",
      "Epoch 48/50\n",
      "56/56 [==============================] - 115s 2s/step - loss: 0.3799 - accuracy: 0.8692 - val_loss: 0.5175 - val_accuracy: 0.7959\n",
      "Epoch 49/50\n",
      "56/56 [==============================] - 118s 2s/step - loss: 0.3719 - accuracy: 0.8720 - val_loss: 0.5025 - val_accuracy: 0.7959\n",
      "Epoch 50/50\n",
      "56/56 [==============================] - 118s 2s/step - loss: 0.3811 - accuracy: 0.8659 - val_loss: 0.5190 - val_accuracy: 0.7959\n",
      "11/11 [==============================] - 17s 1s/step - loss: 0.5190 - accuracy: 0.7959\n",
      "Test Accuracy: 0.795918345451355\n"
     ]
    }
   ],
   "source": [
    "\n",
    "history = model.fit(\n",
    "    train_generator,\n",
    "    steps_per_epoch=train_generator.samples/train_generator.batch_size,\n",
    "    epochs=50,  # You can adjust the number of epochs\n",
    "    validation_data=validation_generator,\n",
    "    validation_steps=validation_generator.samples/validation_generator.batch_size)\n",
    "\n",
    "# Evaluate the model\n",
    "test_loss, test_accuracy = model.evaluate(validation_generator)\n",
    "print('Test Accuracy:', test_accuracy)\n"
   ]
  },
  {
   "cell_type": "code",
   "execution_count": 10,
   "id": "5576e4f4",
   "metadata": {},
   "outputs": [
    {
     "name": "stderr",
     "output_type": "stream",
     "text": [
      "G:\\anaconda\\Lib\\site-packages\\keras\\src\\engine\\training.py:3103: UserWarning: You are saving your model as an HDF5 file via `model.save()`. This file format is considered legacy. We recommend using instead the native Keras format, e.g. `model.save('my_model.keras')`.\n",
      "  saving_api.save_model(\n"
     ]
    }
   ],
   "source": [
    "model.save(\"newmodel.h5\")"
   ]
  },
  {
   "cell_type": "code",
   "execution_count": 11,
   "id": "f57cdbf6",
   "metadata": {},
   "outputs": [
    {
     "name": "stdout",
     "output_type": "stream",
     "text": [
      "57/57 [==============================] - 374s 2s/step\n",
      "11/11 [==============================] - 16s 1s/step\n"
     ]
    }
   ],
   "source": [
    "from sklearn import svm\n",
    "from sklearn.metrics import classification_report, accuracy_score\n",
    "import numpy as np\n",
    "\n",
    "# Extract features using the trained CNN model\n",
    "train_features = model.predict(train_generator)\n",
    "train_labels = train_generator.classes\n",
    "\n",
    "# Flatten the features\n",
    "train_features_flattened = np.reshape(train_features, (train_features.shape[0], -1))\n",
    "\n",
    "# Train an SVM model\n",
    "svm_classifier = svm.SVC(kernel='linear')\n",
    "svm_classifier.fit(train_features_flattened, train_labels)\n",
    "\n",
    "# Extract features for validation data\n",
    "validation_features = model.predict(validation_generator)\n",
    "validation_labels = validation_generator.classes\n",
    "validation_features_flattened = np.reshape(validation_features, (validation_features.shape[0], -1))\n",
    "\n",
    "# Predict using SVM model\n",
    "svm_predictions = svm_classifier.predict(validation_features_flattened)\n"
   ]
  },
  {
   "cell_type": "code",
   "execution_count": null,
   "id": "a5ff4da5",
   "metadata": {},
   "outputs": [],
   "source": []
  },
  {
   "cell_type": "code",
   "execution_count": 12,
   "id": "25b23fd1",
   "metadata": {},
   "outputs": [
    {
     "data": {
      "text/plain": [
       "['svm_model1.pkl']"
      ]
     },
     "execution_count": 12,
     "metadata": {},
     "output_type": "execute_result"
    }
   ],
   "source": [
    "import joblib\n",
    "\n",
    "\n",
    "joblib.dump(svm_classifier, 'svm_model1.pkl')\n"
   ]
  },
  {
   "cell_type": "code",
   "execution_count": null,
   "id": "4bda4dd2",
   "metadata": {},
   "outputs": [],
   "source": []
  }
 ],
 "metadata": {
  "kernelspec": {
   "display_name": "Python 3 (ipykernel)",
   "language": "python",
   "name": "python3"
  },
  "language_info": {
   "codemirror_mode": {
    "name": "ipython",
    "version": 3
   },
   "file_extension": ".py",
   "mimetype": "text/x-python",
   "name": "python",
   "nbconvert_exporter": "python",
   "pygments_lexer": "ipython3",
   "version": "3.11.5"
  }
 },
 "nbformat": 4,
 "nbformat_minor": 5
}
